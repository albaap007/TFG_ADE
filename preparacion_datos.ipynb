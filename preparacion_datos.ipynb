{
  "nbformat": 4,
  "nbformat_minor": 0,
  "metadata": {
    "colab": {
      "name": "preparacion_datos.ipynb",
      "provenance": [],
      "collapsed_sections": []
    },
    "kernelspec": {
      "name": "python3",
      "display_name": "Python 3"
    },
    "language_info": {
      "name": "python"
    }
  },
  "cells": [
    {
      "cell_type": "code",
      "execution_count": null,
      "metadata": {
        "id": "6_TVcrTI_WD7"
      },
      "outputs": [],
      "source": [
        "import pandas as pd"
      ]
    },
    {
      "cell_type": "code",
      "source": [
        "from google.colab import drive\n",
        "drive.mount('/content/drive')"
      ],
      "metadata": {
        "colab": {
          "base_uri": "https://localhost:8080/"
        },
        "id": "K962eISS_1qv",
        "outputId": "ce4621b3-0d71-4836-e847-ef9900350948"
      },
      "execution_count": null,
      "outputs": [
        {
          "output_type": "stream",
          "name": "stdout",
          "text": [
            "Mounted at /content/drive\n"
          ]
        }
      ]
    },
    {
      "cell_type": "code",
      "source": [
        "# Unión conjuntos de datos\n",
        "data0 = pd.read_csv('/content/drive/My Drive/Curso_DL_CFP/proyecto/datos_nc_modelos/0_dataset_resumen_c.csv', on_bad_lines='skip', sep=';')\n",
        "data1 = pd.read_csv('/content/drive/My Drive/Curso_DL_CFP/proyecto/datos_nc_modelos/lista7.csv', on_bad_lines='skip', sep=';')\n",
        "\n",
        "df = pd.merge(left=data0,right=data1, left_on='user', right_on='username')\n",
        "df.info()"
      ],
      "metadata": {
        "id": "zK7q0DbwB1ug"
      },
      "execution_count": null,
      "outputs": []
    },
    {
      "cell_type": "code",
      "source": [
        "# Sustituimos los NaN por la etiqueta 'Other'\n",
        "df['category'] = df['category'].fillna('Other')"
      ],
      "metadata": {
        "id": "F2uSxGFhW-vO"
      },
      "execution_count": null,
      "outputs": []
    },
    {
      "cell_type": "markdown",
      "source": [
        " **GENERACIÓN CARACTERISTICAS **\n",
        "\n",
        "\n",
        "\n"
      ],
      "metadata": {
        "id": "OHVogk-uMm7y"
      }
    },
    {
      "cell_type": "code",
      "source": [
        "import csv\n",
        "from datetime import datetime\n",
        "fechas= []\n",
        "hora = []\n",
        "format = []\n",
        "horaf = []\n",
        "meses = []\n",
        "mesf = []\n",
        "\n",
        "\n",
        "\n",
        "with open('/content/drive/My Drive/Curso_DL_CFP/proyecto/datos_nc_modelos/0_dataset_resumen_c.csv', 'r') as File:\n",
        "                        reader = csv.reader(File, delimiter=';')\n",
        "                        # Omitir el encabezado\n",
        "                        next(reader, None)\n",
        "                        for row in reader:\n",
        "                            \n",
        "                            fechas.append(datetime.strptime(row[4], '%Y-%m-%d'))\n",
        "                            hora.append(datetime.strptime(row[5], '%H:%M:%S'))\n",
        "                      \n",
        "                        print(fechas)\n",
        "                        print(hora)\n",
        "                        for fec in fechas:\n",
        "                          format.append(fec.strftime('%A'))\n",
        "                          meses.append(fec.strftime('%m'))\n",
        "                        print(format)\n",
        "                        print(meses)\n",
        "                        for hr in hora:\n",
        "                          horaf.append(hr.strftime('%H'))\n",
        "                        print(horaf)\n",
        "                        \n",
        "                        df['day'] = format\n",
        "                        df['month'] = meses\n",
        "                        df['hour_of_day'] = horaf\n",
        "\n",
        "df = df.astype({'hour_of_day': float})\n",
        "df.dtypes\n",
        "                      "
      ],
      "metadata": {
        "id": "t_K1FGv8-cme"
      },
      "execution_count": null,
      "outputs": []
    },
    {
      "cell_type": "code",
      "source": [
        "df"
      ],
      "metadata": {
        "id": "FbodwgPRUS_t"
      },
      "execution_count": null,
      "outputs": []
    },
    {
      "cell_type": "code",
      "source": [
        "df.to_csv('/content/drive/My Drive/Curso_DL_CFP/proyecto/datos_nc_modelos/datos_def.csv')"
      ],
      "metadata": {
        "id": "VyURN43qssWU"
      },
      "execution_count": null,
      "outputs": []
    },
    {
      "cell_type": "code",
      "source": [
        "dfs = pd.read_csv('/content/drive/My Drive/Curso_DL_CFP/proyecto/datos_nc_modelos/datos_def.csv', on_bad_lines='skip', sep=',')"
      ],
      "metadata": {
        "id": "3Hbm1gGnPvML"
      },
      "execution_count": null,
      "outputs": []
    },
    {
      "cell_type": "code",
      "source": [
        "dfs"
      ],
      "metadata": {
        "id": "IQWATM1vUdLO"
      },
      "execution_count": null,
      "outputs": []
    },
    {
      "cell_type": "code",
      "source": [
        "#Elimino post de tipo video\n",
        "data_sin_videos = dfs[dfs['tipo']== 'GraphVideo'].index\n",
        "dfs.drop(data_sin_videos, inplace = True)"
      ],
      "metadata": {
        "id": "1FFLGEzVP5YK"
      },
      "execution_count": null,
      "outputs": []
    },
    {
      "cell_type": "code",
      "source": [
        "#Elimimo post de tipo Sidecar.\n",
        "data_sin_sidecar = dfs[dfs['tipo']== 'GraphSidecar'].index\n",
        "dfs.drop(data_sin_sidecar, inplace = True)\n"
      ],
      "metadata": {
        "id": "bNwtJz6mQIB0"
      },
      "execution_count": null,
      "outputs": []
    },
    {
      "cell_type": "code",
      "source": [
        "dataset = dfs[['post','likes','sponsored', 'nPost', 'followers', 'followees', 'nIgtv','business','verified', 'day', 'month', 'hour_of_day', 'category' ]]"
      ],
      "metadata": {
        "id": "4pKxH2wFQCFq"
      },
      "execution_count": null,
      "outputs": []
    },
    {
      "cell_type": "code",
      "source": [
        "dataset.to_csv('/content/drive/My Drive/Curso_DL_CFP/proyecto/datos_nc_modelos/dataset_train.csv')"
      ],
      "metadata": {
        "id": "v-WDAM8rXIVL"
      },
      "execution_count": null,
      "outputs": []
    },
    {
      "cell_type": "code",
      "source": [
        "data_faces = pd.read_csv('/content/drive/My Drive/Curso_DL_CFP/proyecto/datos_nc_modelos/num_faces.csv', on_bad_lines='skip', sep=',')\n",
        "data_space = pd.read_csv('/content/drive/My Drive/Curso_DL_CFP/proyecto/datos_nc_modelos/in_out.csv', on_bad_lines='skip', sep=',')\n",
        "\n",
        "img_c = pd.merge(left=data_faces,right=data_space, left_on='post', right_on='post')\n",
        "img_c.to_csv('/content/drive/My Drive/Curso_DL_CFP/proyecto/datos_nc_modelos/dataset_img.csv')"
      ],
      "metadata": {
        "id": "fTXneveZNHag"
      },
      "execution_count": null,
      "outputs": []
    },
    {
      "cell_type": "code",
      "source": [
        "sep = img_c[\"post\"].str.split('.', expand=True)\n",
        "sep.columns = ['id', 'ext']\n",
        "data_img = pd.concat([img_c, sep], axis=1)\n",
        "data_img"
      ],
      "metadata": {
        "id": "YLLFI63NVUU5"
      },
      "execution_count": null,
      "outputs": []
    },
    {
      "cell_type": "code",
      "source": [
        "dataset_c = pd.merge(left=dataset,right=data_img, left_on='post', right_on='id')\n",
        "dataset_c"
      ],
      "metadata": {
        "id": "QkMTCpmEdR90"
      },
      "execution_count": null,
      "outputs": []
    },
    {
      "cell_type": "code",
      "source": [
        "dataset_train = dataset_c[['post_x','likes','sponsored', 'nPost', 'followers', 'followees', 'nIgtv','business','verified', 'day', 'month', 'hour_of_day', 'category', 'faces', 'is_people', 'label' ]]\n",
        "dataset_train.to_csv('/content/drive/My Drive/Curso_DL_CFP/proyecto/datos_nc_modelos/dataset_train_c.csv')"
      ],
      "metadata": {
        "id": "ie8ShuILdnGG"
      },
      "execution_count": null,
      "outputs": []
    },
    {
      "cell_type": "code",
      "source": [
        "dataset_train = pd.read_csv('/content/drive/My Drive/Curso_DL_CFP/proyecto/datos_nc_modelos/dataset_train_c.csv', on_bad_lines='skip', sep=',')\n",
        "dataset_train['followers'].max()"
      ],
      "metadata": {
        "id": "2p3f6SBhCAcP"
      },
      "execution_count": null,
      "outputs": []
    },
    {
      "cell_type": "code",
      "source": [
        "from sklearn.preprocessing import LabelEncoder\n",
        "#one hot encoding\n",
        "from numpy import asarray\n",
        "from sklearn.preprocessing import OneHotEncoder\n",
        "# definimos datos\n",
        "data_day = dataset_train[['day']].values\n",
        "data_month = dataset_train[['month']].values\n",
        "data_hour_of_day = dataset_train[['hour_of_day']].values\n",
        "data_category = dataset_train[['category']].values\n",
        "data_is_people = dataset_train[['is_people']].values\n",
        "data_label = dataset_train[['label']].values\n",
        "# definimos one hot encoding\n",
        "encoder = OneHotEncoder(sparse=False)\n",
        "# transformamos datos\n",
        "onehot_day = encoder.fit_transform(data_day)\n",
        "onehot_month = encoder.fit_transform(data_month)\n",
        "onehot_hour_of_day = encoder.fit_transform(data_hour_of_day)\n",
        "onehot_category = encoder.fit_transform(data_category)\n",
        "onehot_is_people = encoder.fit_transform(data_is_people)\n",
        "onehot_label = encoder.fit_transform(data_label)\n",
        "\n"
      ],
      "metadata": {
        "id": "VfEav05be8HR"
      },
      "execution_count": null,
      "outputs": []
    },
    {
      "cell_type": "code",
      "source": [
        "dataset_train['day'] = onehot_day\n",
        "dataset_train['month'] = onehot_month\n",
        "dataset_train['hour_of_day'] = onehot_hour_of_day\n",
        "dataset_train['category'] = onehot_category\n",
        "dataset_train['is_people'] = onehot_is_people\n",
        "dataset_train['label'] = onehot_label"
      ],
      "metadata": {
        "id": "eJLzkLwbgzbn"
      },
      "execution_count": null,
      "outputs": []
    },
    {
      "cell_type": "code",
      "source": [
        "dataset_train.to_csv('/content/drive/My Drive/Curso_DL_CFP/proyecto/datos_nc_modelos/dataset_codif.csv')"
      ],
      "metadata": {
        "id": "EjzstTFsalhP"
      },
      "execution_count": null,
      "outputs": []
    },
    {
      "cell_type": "code",
      "source": [
        "dataset_train.dtypes"
      ],
      "metadata": {
        "id": "m5Y7nSqCiY0u"
      },
      "execution_count": null,
      "outputs": []
    },
    {
      "cell_type": "code",
      "source": [
        "dataset_train_sin_img = dataset_c"
      ],
      "metadata": {
        "id": "Fic2SdTQbcna"
      },
      "execution_count": null,
      "outputs": []
    },
    {
      "cell_type": "code",
      "source": [
        "import seaborn as sns\n",
        "import numpy as np\n",
        "from matplotlib import pyplot as plt\n",
        "correlation = dataset_train_sin_img.corr(method='pearson')\n",
        "columns = correlation.nlargest(10, 'likes').index\n",
        "columns\n",
        "correlation_map = np.corrcoef(dataset_train_sin_img[columns].values.T)\n",
        "sns.set(font_scale=0.75)\n",
        "heatmap = sns.heatmap(correlation_map, cbar=True, annot=True, square=True, fmt='.2f', yticklabels=columns.values, xticklabels=columns.values)\n",
        "\n",
        "plt.show()"
      ],
      "metadata": {
        "id": "vT3z2Xs9xcNY"
      },
      "execution_count": null,
      "outputs": []
    },
    {
      "cell_type": "code",
      "source": [
        "img = '/content/drive/My Drive/Curso_DL_CFP/proyecto/datos_nc_modelos/num_faces.csv'\n",
        "with open( '/content/drive/My Drive/Curso_DL_CFP/proyecto/datos_nc_modelos/num_faces.csv', 'a', encoding='UTF-8') as archivo:\n",
        "  print('codificando')\n",
        "  archivo.write('\\n')\n",
        "\n"
      ],
      "metadata": {
        "id": "3qx1ggWcG7yM"
      },
      "execution_count": null,
      "outputs": []
    },
    {
      "cell_type": "code",
      "source": [
        "dataFace = pd.read_csv('/content/drive/My Drive/Curso_DL_CFP/proyecto/datos_nc_modelos/num_faces1.csv',on_bad_lines='skip', sep=';' )\n",
        "dataFace\n",
        "df = dataFace[\"post\"].str.split('.', expand=True)\n",
        "df.columns = ['post_id', 'ext']\n",
        "dface = pd.concat([dataFace, df], axis=1)\n",
        "dface"
      ],
      "metadata": {
        "id": "2YKNDscVOB3K"
      },
      "execution_count": null,
      "outputs": []
    }
  ]
}