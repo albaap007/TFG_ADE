{
  "cells": [
    {
      "cell_type": "code",
      "execution_count": 1,
      "metadata": {
        "id": "BKMNKFPgO_ab"
      },
      "outputs": [],
      "source": [
        "import pandas as pd\n",
        "import numpy as np\n",
        "from sklearn.metrics import mean_absolute_error, mean_squared_error, r2_score\n",
        "from matplotlib import pyplot as plt\n",
        "import math \n",
        "import seaborn as sns"
      ]
    },
    {
      "cell_type": "code",
      "execution_count": null,
      "metadata": {
        "id": "OaC3CwZaQSdA"
      },
      "outputs": [],
      "source": [
        "from google.colab import drive\n",
        "drive.mount('/content/drive')"
      ]
    },
    {
      "cell_type": "code",
      "source": [
        "df = pd.read_csv('/content/drive/My Drive/Curso_DL_CFP/proyecto/datos_nc_modelos/dataset_codif.csv', on_bad_lines='skip', sep=',')\n",
        "df.describe()"
      ],
      "metadata": {
        "id": "2jlWy4smxGQc"
      },
      "execution_count": null,
      "outputs": []
    },
    {
      "cell_type": "code",
      "source": [
        "# Box Plot\n",
        "import seaborn as sns\n",
        "sns.boxplot(df['likes'])"
      ],
      "metadata": {
        "id": "UST5CpKiN2R3"
      },
      "execution_count": null,
      "outputs": []
    },
    {
      "cell_type": "code",
      "source": [
        "#Elimino post con más de 200000\n",
        "data = df[df['likes']>= 200000].index\n",
        "df.drop(data, inplace = True)"
      ],
      "metadata": {
        "id": "UNL8SeFXFrrX"
      },
      "execution_count": 33,
      "outputs": []
    },
    {
      "cell_type": "code",
      "execution_count": null,
      "metadata": {
        "id": "YGScDO3QSL-C"
      },
      "outputs": [],
      "source": [
        "from sklearn.model_selection import train_test_split\n",
        "\n",
        "# We have to pass np arrays instead of pd dataframes or series to Keras: .values\n",
        "#X = df[[ 'followers','sponsored', 'followees', 'nIgtv','business','verified', 'day', 'month', 'hour_of_day', 'category', 'label', 'is_people' ]].values\n",
        "#X = df[[ 'followers','sponsored', 'followees', 'nIgtv','business','verified', 'day', 'month', 'hour_of_day', 'category' ]].values\n",
        "#X = df[[ 'followers', 'nIgtv','business','verified', 'hour_of_day', 'label', 'is_people']].values\n",
        "X = df[[ 'followers', 'nIgtv','business','verified', 'hour_of_day']].values\n",
        "#X = df[[ 'followers', 'followees','verified', 'hour_of_day', 'day', 'category', 'month']].values\n",
        "y = df['likes'].values\n",
        "\n",
        "X_train, X_test, y_train, y_test = train_test_split(X, y, test_size=0.2, random_state=42)\n",
        "\n",
        "print( X_train.shape , X_test.shape)"
      ]
    },
    {
      "cell_type": "markdown",
      "metadata": {
        "id": "Y0iqVA-VVlWt"
      },
      "source": [
        "REDES NEURONALES:"
      ]
    },
    {
      "cell_type": "code",
      "execution_count": null,
      "metadata": {
        "id": "tbJHt8o6Vrvc"
      },
      "outputs": [],
      "source": [
        "from keras.models import Sequential,Model\n",
        "from tensorflow.keras.optimizers import Adam \n",
        "\n",
        "from tensorflow.keras.layers import BatchNormalization\n",
        "from keras.layers.convolutional import Conv2D\n",
        "from keras.layers.convolutional import MaxPooling2D\n",
        "from keras.layers.core import Activation\n",
        "from keras.layers.core import Dropout\n",
        "from keras.layers.core import Dense\n",
        "from keras.layers import Flatten\n",
        "from keras.layers import Input\n",
        "#from keras.models import Model\n",
        " \n",
        "# define our MLP network\n",
        "model1 = Sequential()\n",
        "model1.add(Dense(12, input_dim =12, activation=\"relu\"))\n",
        "model1.add(Dense(14, activation=\"relu\"))\n",
        "model1.add(Dense(64, activation=\"relu\"))\n",
        "model1.add(Dense(64, activation=\"relu\"))\n",
        "model1.add(Dense(64, activation=\"relu\"))\n",
        "model1.add(Dense(64, activation=\"relu\"))\n",
        "model1.add(Dense(64, activation=\"relu\"))\n",
        "model1.add(Dense(64, activation=\"relu\"))\n",
        "model1.add(Dense(1, activation=\"linear\"))\n",
        "opt = Adam(lr=1e-4, decay=1e-4 / 200)\n",
        "model1.compile(loss=\"mean_squared_error\", optimizer=opt)\n",
        "\n",
        "model1.fit(X_train, y_train, validation_data=(X_test, y_test),\n",
        "\tepochs=300, batch_size=100)\n",
        "\n",
        "loss_df = pd.DataFrame(model1.history.history)\n",
        "loss_df.plot()"
      ]
    },
    {
      "cell_type": "code",
      "source": [
        "model1.save(\"/content/drive/My Drive/Curso_DL_CFP/Modelos/deepANN_fin.h5\")"
      ],
      "metadata": {
        "id": "X-leMuYXNaLQ"
      },
      "execution_count": 67,
      "outputs": []
    },
    {
      "cell_type": "code",
      "source": [
        ""
      ],
      "metadata": {
        "id": "hUYB5dXhNvoF"
      },
      "execution_count": null,
      "outputs": []
    },
    {
      "cell_type": "code",
      "execution_count": null,
      "metadata": {
        "id": "bg-3fwJMV_Hs"
      },
      "outputs": [],
      "source": [
        "from math import sqrt \n",
        "test_predictions = model1.predict(X_test)\n",
        "test_predictions = pd.Series(test_predictions.reshape(2684,))\n",
        "pred_df = pd.DataFrame(y_test, columns=['Test True Y'])\n",
        "pred_df = pd.concat([pred_df, test_predictions], axis=1)\n",
        "pred_df.columns = ['Test True Y', 'Model Predictions']\n",
        "rmse_la = sqrt(mean_squared_error(y_test, test_predictions)) \n",
        "Rsquared = r2_score(y_test, test_predictions)\n",
        "mae = mean_absolute_error(y_test, test_predictions)\n",
        "print('R Squared: %.3f' % Rsquared)\n",
        "print('RMSE: %.3f' % rmse_la) \n",
        "print('MAE: %.3f' % mae)\n",
        "print('-------------------------------------------------')\n",
        "sns.scatterplot(x='Test True Y', y='Model Predictions', data=pred_df)\n",
        "sns.regplot(x='Test True Y', y='Model Predictions', data=pred_df, color='purple' )"
      ]
    },
    {
      "cell_type": "code",
      "source": [
        "pred_df.head(20)\n"
      ],
      "metadata": {
        "id": "QcP_qB2fd1Z7"
      },
      "execution_count": null,
      "outputs": []
    },
    {
      "cell_type": "markdown",
      "metadata": {
        "id": "HQnCFc30YJiS"
      },
      "source": [
        "REGRESIÓN \n"
      ]
    },
    {
      "cell_type": "code",
      "execution_count": 7,
      "metadata": {
        "id": "LLJ9XaZg-UoL"
      },
      "outputs": [],
      "source": [
        "import pandas as pd\n",
        "import numpy as np\n",
        "import warnings \n",
        "warnings.filterwarnings('ignore') \n",
        "import math\n",
        "import scipy\n",
        "import plotly.graph_objects as go \n",
        "import plotly.express as px\n",
        "from math import sqrt\n",
        "from statistics import mean\n",
        "from sklearn.metrics import accuracy_score, classification_report, confusion_matrix, balanced_accuracy_score \n",
        "from sklearn.metrics import mean_squared_error\n",
        "from sklearn.metrics import r2_score\n",
        "from sklearn.metrics import mean_absolute_error\n",
        "from sklearn.feature_selection import VarianceThreshold\n",
        "from sklearn.model_selection import GridSearchCV\n",
        "from sklearn.model_selection import RandomizedSearchCV\n",
        "from sklearn.model_selection import train_test_split, cross_val_score, KFold \n",
        "from sklearn.ensemble import RandomForestRegressor\n",
        "from sklearn.neighbors import KNeighborsRegressor\n",
        "from sklearn.tree import DecisionTreeRegressor\n",
        "from sklearn.ensemble import GradientBoostingRegressor\n",
        "from sklearn.neighbors import KNeighborsRegressor\n",
        "from sklearn.linear_model import LogisticRegression\n",
        "from sklearn.linear_model import LinearRegression\n",
        "from sklearn import datasets\n",
        "import seaborn as sns\n",
        "from sklearn.feature_selection import RFE\n",
        "from sklearn.model_selection import train_test_split\n",
        "from sklearn.model_selection import cross_val_score, cross_validate\n",
        "from sklearn.model_selection import KFold\n",
        "from sklearn.pipeline import Pipeline\n",
        "from sklearn.preprocessing import StandardScaler\n",
        "import matplotlib.pyplot as plt\n",
        "import xgboost as xgb"
      ]
    },
    {
      "cell_type": "code",
      "execution_count": null,
      "metadata": {
        "id": "ffeI94wvAlae"
      },
      "outputs": [],
      "source": [
        "model_baseline = KNeighborsRegressor()\n",
        "model_baseline.fit(X_train, y_train)\n",
        "prediction_engagement = model_baseline.predict(X_test)\n",
        "\n",
        "#Performance Metrics (Errors)\n",
        "rmse_la = sqrt(mean_squared_error(y_test, prediction_engagement)) \n",
        "Rsquared = r2_score(y_test, prediction_engagement)\n",
        "mae = mean_absolute_error(y_test, prediction_engagement)\n",
        "print('R Squared: %.3f' % Rsquared)\n",
        "print('RMSE: %.3f' % rmse_la) \n",
        "print('MAE: %.3f' % mae)\n",
        "\n",
        "#Plot actual vs predicted\n",
        "fig, ax = plt.subplots()\n",
        "ax.scatter(y_test, prediction_engagement, edgecolors=(0, 0, 0)) \n",
        "ax.set_xlabel('Measured')\n",
        "ax.set_ylabel('Predicted')\n",
        "plt.show()\n"
      ]
    },
    {
      "cell_type": "code",
      "source": [
        "models = [KNeighborsRegressor() ,DecisionTreeRegressor() ,GradientBoostingRegressor(), xgb.XGBRegressor() ]"
      ],
      "metadata": {
        "id": "uYgLzeDVkkH2"
      },
      "execution_count": 72,
      "outputs": []
    },
    {
      "cell_type": "code",
      "source": [
        "R2 = []\n",
        "RMSE = []\n",
        "MAE = []\n",
        "\n",
        "for model in models:\n",
        "\n",
        "  model.fit(X_train, y_train)\n",
        "  prediction_engagement = model.predict(X_test)\n",
        "\n",
        "  #Performance Metrics (Errors)\n",
        "  rmse_la = sqrt(mean_squared_error(y_test, prediction_engagement)) \n",
        "  Rsquared = r2_score(y_test, prediction_engagement)\n",
        "  mae = mean_absolute_error(y_test, prediction_engagement)\n",
        "  print('R Squared: %.3f' % Rsquared)\n",
        "  R2.append(Rsquared)\n",
        "  print('RMSE: %.3f' % rmse_la)\n",
        "  RMSE.append(rmse_la) \n",
        "  print('MAE: %.3f' % mae)\n",
        "  MAE.append(mae)\n",
        "\n",
        "  #Plot actual vs predicted\n",
        "  fig, ax = plt.subplots()\n",
        "  ax.scatter(y_test, prediction_engagement, edgecolors=(0, 0, 0)) \n",
        "  ax.set_xlabel('Measured')\n",
        "  ax.set_ylabel('Predicted')\n",
        "  plt.show()\n",
        "\n",
        "\n"
      ],
      "metadata": {
        "id": "iKk8ilg4lDvH"
      },
      "execution_count": null,
      "outputs": []
    },
    {
      "cell_type": "code",
      "source": [
        "col={'R2':R2,'RMSE':RMSE, 'MAE': MAE}\n",
        "models=['KNN','DTree','Gradient Boosting', 'XGBoost']\n",
        "df=pd.DataFrame(data=col,index=models)\n",
        "df"
      ],
      "metadata": {
        "id": "fK7wIM4DmV8m"
      },
      "execution_count": null,
      "outputs": []
    },
    {
      "cell_type": "code",
      "source": [
        "model3 = KNeighborsRegressor(10) \n",
        "model3.fit(X_train, y_train)\n",
        "prediction_engagement = model3.predict(X_test)\n",
        "\n",
        "#Performance Metrics (Errors)\n",
        "rmse_la = sqrt(mean_squared_error(y_test, prediction_engagement)) \n",
        "Rsquared = r2_score(y_test, prediction_engagement)\n",
        "mae = mean_absolute_error(y_test, prediction_engagement)\n",
        "print('R Squared: %.3f' % Rsquared)\n",
        "print('RMSE: %.3f' % rmse_la) \n",
        "print('MAE: %.3f' % mae)\n",
        "\n",
        "#Plot actual vs predicted\n",
        "fig, ax = plt.subplots()\n",
        "ax.scatter(y_test, prediction_engagement, edgecolors=(0, 0, 0)) \n",
        "ax.set_xlabel('Measured')\n",
        "ax.set_ylabel('Predicted')\n",
        "plt.show()\n"
      ],
      "metadata": {
        "id": "1S6Z9kQOie7g"
      },
      "execution_count": null,
      "outputs": []
    },
    {
      "cell_type": "code",
      "source": [
        "model3 = xgb.XGBRegressor() \n",
        "model3.fit(X_train, y_train)\n",
        "prediction_engagement = model3.predict(X_test)\n",
        "\n",
        "#Performance Metrics (Errors)\n",
        "rmse_la = sqrt(mean_squared_error(y_test, prediction_engagement)) \n",
        "Rsquared = r2_score(y_test, prediction_engagement)\n",
        "mae = mean_absolute_error(y_test, prediction_engagement)\n",
        "print('R Squared: %.3f' % Rsquared)\n",
        "print('RMSE: %.3f' % rmse_la) \n",
        "print('MAE: %.3f' % mae)\n",
        "\n",
        "#Plot actual vs predicted\n",
        "fig, ax = plt.subplots()\n",
        "ax.scatter(y_test, prediction_engagement, edgecolors=(0, 0, 0)) \n",
        "ax.set_xlabel('Measured')\n",
        "ax.set_ylabel('Predicted')\n",
        "\n",
        "plt.show()\n"
      ],
      "metadata": {
        "id": "oCO-u9gbjCrv"
      },
      "execution_count": null,
      "outputs": []
    },
    {
      "cell_type": "code",
      "source": [
        "prediction_engagement = pd.Series(prediction_engagement.reshape(2829,))\n",
        "pred_df = pd.DataFrame(y_test, columns=['Test True Y'])\n",
        "pred_df = pd.concat([pred_df, prediction_engagement], axis=1)\n",
        "pred_df.columns = ['Test True Y', 'Model Predictions']\n",
        "pred = pred_df [pred_df['Model Predictions']>=35000]\n",
        "pred"
      ],
      "metadata": {
        "id": "CDsmM5bbIBzM"
      },
      "execution_count": null,
      "outputs": []
    },
    {
      "cell_type": "code",
      "source": [
        "pred_x = pd.DataFrame(X_test, columns=['followers', 'nIgtv','business','verified', 'hour_of_day'])\n",
        "pred_df = pd.concat([pred_df, pred_x], axis=1)\n",
        "pred_df.columns = ['Test True Y', 'Model Predictions', 'followers', 'nIgtv','business','verified', 'hour_of_day']\n",
        "pred = pred_df [pred_df['Model Predictions']>=70000]\n",
        "pred"
      ],
      "metadata": {
        "id": "21tYWo7BJag0"
      },
      "execution_count": null,
      "outputs": []
    },
    {
      "cell_type": "code",
      "source": [
        "sns.scatterplot(x='Test True Y', y='Model Predictions', data=pred_df)\n",
        "sns.regplot(x='Test True Y', y='Model Predictions', data=pred_df, color='purple' )"
      ],
      "metadata": {
        "id": "vYUHZlj0-kuO"
      },
      "execution_count": null,
      "outputs": []
    },
    {
      "cell_type": "code",
      "source": [
        "model3 = GradientBoostingRegressor()\n",
        "model3.fit(X_train, y_train)\n",
        "prediction_engagement = model3.predict(X_test)\n",
        "\n",
        "#Performance Metrics (Errors)\n",
        "rmse_la = sqrt(mean_squared_error(y_test, prediction_engagement)) \n",
        "Rsquared = r2_score(y_test, prediction_engagement)\n",
        "mae = mean_absolute_error(y_test, prediction_engagement)\n",
        "print('R Squared: %.3f' % Rsquared)\n",
        "print('RMSE: %.3f' % rmse_la) \n",
        "print('MAE: %.3f' % mae)\n",
        "\n",
        "#Plot actual vs predicted\n",
        "fig, ax = plt.subplots()\n",
        "ax.scatter(y_test, prediction_engagement, edgecolors=(0, 0, 0)) \n",
        "ax.set_xlabel('Measured')\n",
        "ax.set_ylabel('Predicted')\n",
        "plt.show()\n"
      ],
      "metadata": {
        "id": "WB5UjiewjVpv"
      },
      "execution_count": null,
      "outputs": []
    },
    {
      "cell_type": "code",
      "source": [
        ""
      ],
      "metadata": {
        "id": "SdeysAmLfD2q"
      },
      "execution_count": null,
      "outputs": []
    }
  ],
  "metadata": {
    "colab": {
      "name": "modelado.ipynb",
      "provenance": []
    },
    "kernelspec": {
      "display_name": "Python 3",
      "name": "python3"
    },
    "language_info": {
      "name": "python"
    }
  },
  "nbformat": 4,
  "nbformat_minor": 0
}